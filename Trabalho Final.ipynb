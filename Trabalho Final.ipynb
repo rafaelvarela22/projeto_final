{
 "cells": [
  {
   "cell_type": "markdown",
   "metadata": {},
   "source": [
    "# Trabalho Final - Probabilidade\n",
    "\n",
    "# Docente - Ivanovitch Medeiros\n",
    "\n",
    "# Discente - Rafael Costa Varela"
   ]
  },
  {
   "cell_type": "markdown",
   "metadata": {},
   "source": [
    "# Seleção da turma (via Shell Script)\n",
    "\n",
    "Códigos dos componentes curriculares que tiveram turmas nos períodos 2014.1, 2015.1, e 2016.1 no horário 246N12\n",
    "\n",
    "cat *csv | grep \"246N12\" | cut -d \\; -f 6 | sort | uniq -c | sort -n -k 1 | head -40 | tail -10"
   ]
  },
  {
   "cell_type": "markdown",
   "metadata": {},
   "source": [
    "# Disciplina escolhida\n",
    "\n",
    "FISICA BASICA III (Código: 22930)"
   ]
  },
  {
   "cell_type": "markdown",
   "metadata": {},
   "source": [
    "# Bibliotecas utilizadas"
   ]
  },
  {
   "cell_type": "code",
   "execution_count": 1,
   "metadata": {},
   "outputs": [],
   "source": [
    "import pandas as pd\n",
    "import numpy as np\n",
    "import matplotlib.pyplot as plt\n",
    "import seaborn as sns\n",
    "from functools import reduce"
   ]
  },
  {
   "cell_type": "markdown",
   "metadata": {},
   "source": [
    "# Funções Auxiliares"
   ]
  },
  {
   "cell_type": "markdown",
   "metadata": {},
   "source": [
    "#### Faz a função map (bultin do Python) retornar listas ao invés de geradores"
   ]
  },
  {
   "cell_type": "code",
   "execution_count": 2,
   "metadata": {},
   "outputs": [],
   "source": [
    "lmap = lambda f, d: list(map(f, d))"
   ]
  },
  {
   "cell_type": "markdown",
   "metadata": {},
   "source": [
    "#### Carrega os datasets"
   ]
  },
  {
   "cell_type": "code",
   "execution_count": 3,
   "metadata": {},
   "outputs": [],
   "source": [
    "def carregar(ano, periodo):\n",
    "    turmas = pd.read_csv(f'turmas-{ano}.{periodo}.csv', sep=';')\n",
    "    turmas['id_turma'] = pd.to_numeric(turmas['id_turma'])\n",
    "    matriculas = pd.read_csv(f'matricula-componente-{ano}{periodo}.csv', sep=';')\n",
    "    return turmas, matriculas"
   ]
  },
  {
   "cell_type": "markdown",
   "metadata": {},
   "source": [
    "#### Junta dois datasets com base na coluna id_turma"
   ]
  },
  {
   "cell_type": "code",
   "execution_count": 4,
   "metadata": {},
   "outputs": [],
   "source": [
    "def juntar(turma, matricula):\n",
    "    return turma.merge(matricula, how='right', right_on='id_turma', left_on='id_turma')"
   ]
  },
  {
   "cell_type": "markdown",
   "metadata": {},
   "source": [
    "#### Filtra um dataset com base no código do componente curricular e do horário, ambos especificados anteriormente"
   ]
  },
  {
   "cell_type": "code",
   "execution_count": 5,
   "metadata": {},
   "outputs": [],
   "source": [
    "def filtrar(dataset):\n",
    "    return dataset.query(f'id_componente_curricular == {CODIGO_COMPONENTE}').query(f'descricao_horario.str.contains(\"{HORARIO}\")')"
   ]
  },
  {
   "cell_type": "markdown",
   "metadata": {},
   "source": [
    "#### Faz o encadeamento das funções anteriores e aplica esse encadeamento de uma vez só nos conjuntos de dados"
   ]
  },
  {
   "cell_type": "code",
   "execution_count": 6,
   "metadata": {},
   "outputs": [],
   "source": [
    "def pipeline_carregamento_dados(ano, periodo):\n",
    "    turmas, matriculas = carregar(ano, periodo)\n",
    "    dataset = juntar(turmas, matriculas)\n",
    "    return filtrar(dataset)"
   ]
  },
  {
   "cell_type": "markdown",
   "metadata": {},
   "source": [
    "#### Retorna a média de valores de um campo do dataset"
   ]
  },
  {
   "cell_type": "code",
   "execution_count": 7,
   "metadata": {},
   "outputs": [],
   "source": [
    "def dados_campo(campo, datasets):\n",
    "    return lmap(lambda dataset: dataset[campo].mean(), datasets)"
   ]
  },
  {
   "cell_type": "markdown",
   "metadata": {},
   "source": [
    "#### Plota um gráfico de barras"
   ]
  },
  {
   "cell_type": "code",
   "execution_count": 8,
   "metadata": {},
   "outputs": [],
   "source": [
    "def grafico_barras(dados, titulo):\n",
    "    sns.set(style=\"whitegrid\")\n",
    "    labels = PERIODOS\n",
    "    return sns.barplot(x=labels, y=dados).set_title(titulo)"
   ]
  },
  {
   "cell_type": "markdown",
   "metadata": {},
   "source": [
    "# Constantes"
   ]
  },
  {
   "cell_type": "code",
   "execution_count": 9,
   "metadata": {},
   "outputs": [],
   "source": [
    "COMPONENTE_CURRICULAR_NOME = 'FISICA BASICA III'\n",
    "CODIGO_COMPONENTE = 22930 # Fonte: http://dados.ufrn.br/dataset/componentes-curriculares/resource/9a3521d2-4bc5-4fda-93f0-f701c8a20727\n",
    "HORARIO = \"246N12\"\n",
    "PERIODOS = '2014.1,2015.1,2016.1'.split(',')"
   ]
  },
  {
   "cell_type": "code",
   "execution_count": 10,
   "metadata": {},
   "outputs": [],
   "source": [
    "QTD_DE_AULAS = 'qtd_aulas_lancadas'\n",
    "MEDIA_FINAL = 'media_final'\n",
    "NOTA_DA_MEDIA = 'nota'\n",
    "UNIDADE = 'unidade'"
   ]
  },
  {
   "cell_type": "markdown",
   "metadata": {},
   "source": [
    "# Datasets"
   ]
  },
  {
   "cell_type": "code",
   "execution_count": 11,
   "metadata": {},
   "outputs": [],
   "source": [
    "dataset_2014_1 = pipeline_carregamento_dados(2014, 1)\n",
    "dataset_2015_1 = pipeline_carregamento_dados(2015, 1)\n",
    "dataset_2016_1 = pipeline_carregamento_dados(2016, 1)"
   ]
  },
  {
   "cell_type": "code",
   "execution_count": 12,
   "metadata": {},
   "outputs": [],
   "source": [
    "datasets = [dataset_2014_1, dataset_2015_1, dataset_2016_1]"
   ]
  },
  {
   "cell_type": "markdown",
   "metadata": {},
   "source": [
    "# Quantidade de Aulas"
   ]
  },
  {
   "cell_type": "code",
   "execution_count": 13,
   "metadata": {},
   "outputs": [],
   "source": [
    "aulas = dados_campo(QTD_DE_AULAS, datasets)"
   ]
  },
  {
   "cell_type": "code",
   "execution_count": 14,
   "metadata": {},
   "outputs": [
    {
     "data": {
      "image/png": "[encoded data removed]",
      "text/plain": [
       "<Figure size 432x288 with 1 Axes>"
      ]
     },
     "metadata": {},
     "output_type": "display_data"
    }
   ],
   "source": [
    "%matplotlib inline\n",
    "ax = grafico_barras(aulas, 'Quantidade de Aulas Ministradas')\n",
    "plt.show()"
   ]
  },
  {
   "cell_type": "markdown",
   "metadata": {},
   "source": [
    "# Médias finais"
   ]
  },
  {
   "cell_type": "code",
   "execution_count": 15,
   "metadata": {},
   "outputs": [],
   "source": [
    "medias_finais = dados_campo(MEDIA_FINAL, datasets)"
   ]
  },
  {
   "cell_type": "code",
   "execution_count": 16,
   "metadata": {},
   "outputs": [
    {
     "data": {
      "image/png": "[encoded data removed]",
      "text/plain": [
       "<Figure size 432x288 with 1 Axes>"
      ]
     },
     "metadata": {},
     "output_type": "display_data"
    }
   ],
   "source": [
    "%matplotlib inline\n",
    "ax = grafico_barras(medias_finais, 'Médias finais dos discentes')\n",
    "plt.show()"
   ]
  },
  {
   "cell_type": "markdown",
   "metadata": {},
   "source": [
    "# Médias nas unidades"
   ]
  },
  {
   "cell_type": "code",
   "execution_count": 17,
   "metadata": {},
   "outputs": [],
   "source": [
    "def medias_unidades(dataset):\n",
    "    unidades = dataset[dataset[UNIDADE] > 0][UNIDADE].unique()\n",
    "    medias = lmap(lambda unidade: dataset[dataset[UNIDADE] == unidade][NOTA_DA_MEDIA].mean(), unidades)\n",
    "    return medias"
   ]
  },
  {
   "cell_type": "code",
   "execution_count": 18,
   "metadata": {},
   "outputs": [
    {
     "data": {
      "image/png": "[encoded data removed]",
      "text/plain": [
       "<Figure size 864x216 with 3 Axes>"
      ]
     },
     "metadata": {
      "needs_background": "light"
     },
     "output_type": "display_data"
    }
   ],
   "source": [
    "%matplotlib inline\n",
    "fig, axs = plt.subplots(1, 3, figsize=(12, 3), sharey=True) # Gera 3 slots para colocar os gráficos de cada período\n",
    "unidades = ['Primeira', 'Segunda', 'Terceira']\n",
    "for i, ax in enumerate(axs):\n",
    "    ax.bar(unidades, medias_unidades(datasets[i])) # Plota um gráfico de barras\n",
    "    ax.set_title(f'Médias das notas em cada unidade\\nno período {PERIODOS[i]}')\n",
    "plt.show()"
   ]
  },
  {
   "cell_type": "markdown",
   "metadata": {},
   "source": [
    "# Situação dos Discentes"
   ]
  },
  {
   "cell_type": "markdown",
   "metadata": {},
   "source": [
    "#### Retorna as percentagens de alunos aprovados e reprovados em um determinado período"
   ]
  },
  {
   "cell_type": "code",
   "execution_count": 19,
   "metadata": {},
   "outputs": [],
   "source": [
    "def situacoes_discentes(dataset):\n",
    "    reprovados = (dataset.query(f'{MEDIA_FINAL} < 5').shape[0] / dataset.shape[0]) * 100\n",
    "    aprovados = (dataset.query(f'{MEDIA_FINAL} >= 5').shape[0] / dataset.shape[0]) * 100\n",
    "    return aprovados, reprovados"
   ]
  },
  {
   "cell_type": "code",
   "execution_count": 20,
   "metadata": {},
   "outputs": [],
   "source": [
    "situacoes = lmap(situacoes_discentes, datasets)\n",
    "dicionario = {\n",
    "    'aprovados': lmap(lambda s: s[0], situacoes),\n",
    "    'reprovados': lmap(lambda s: s[1], situacoes),\n",
    "    'periodo': PERIODOS,\n",
    "}\n",
    "df_situacoes = pd.DataFrame(dicionario, columns=dicionario.keys())"
   ]
  },
  {
   "cell_type": "code",
   "execution_count": 21,
   "metadata": {},
   "outputs": [
    {
     "data": {
      "image/png": "[encoded data removed]",
      "text/plain": [
       "<Figure size 432x288 with 1 Axes>"
      ]
     },
     "metadata": {
      "needs_background": "light"
     },
     "output_type": "display_data"
    }
   ],
   "source": [
    "%matplotlib inline\n",
    "fig, ax = plt.subplots()\n",
    "font_size = 12\n",
    "fig.suptitle('Percentagens de alunos aprovados e reprovados', fontsize=font_size)\n",
    "ax.set_xlabel('aprovados', fontsize = font_size)\n",
    "ax.set_ylabel('reprovados', fontsize = font_size)\n",
    "colors = ['r', 'g', 'b']\n",
    "for periodo, color in zip(PERIODOS, colors):\n",
    "    linhas_para_plotar = df_situacoes['periodo'] == periodo\n",
    "    ax.scatter(df_situacoes.loc[linhas_para_plotar, 'aprovados']\n",
    "               , df_situacoes.loc[linhas_para_plotar, 'reprovados']\n",
    "               , c = color\n",
    "               , s = 50)\n",
    "ax.legend(PERIODOS)\n",
    "ax.grid()"
   ]
  }
 ],
 "metadata": {
  "kernelspec": {
   "display_name": "Python 3",
   "language": "python",
   "name": "python3"
  },
  "language_info": {
   "codemirror_mode": {
    "name": "ipython",
    "version": 3
   },
   "file_extension": ".py",
   "mimetype": "text/x-python",
   "name": "python",
   "nbconvert_exporter": "python",
   "pygments_lexer": "ipython3",
   "version": "3.6.4"
  }
 },
 "nbformat": 4,
 "nbformat_minor": 2
}
